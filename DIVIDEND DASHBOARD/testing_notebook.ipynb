{
 "cells": [
  {
   "cell_type": "markdown",
   "metadata": {},
   "source": [
    "## new testing section for the notebook\n"
   ]
  },
  {
   "cell_type": "markdown",
   "metadata": {},
   "source": [
    "## Testing to use the message from 3 commas to start and stop the trading bot"
   ]
  },
  {
   "cell_type": "code",
   "execution_count": 2,
   "metadata": {},
   "outputs": [
    {
     "name": "stdout",
     "output_type": "stream",
     "text": [
      "Bot stopped successfully.\n"
     ]
    }
   ],
   "source": [
    "import requests\n",
    "\n",
    "# Define the API endpoint\n",
    "api_url = \"https://3commas.io/trade_signal/trading_view\"\n",
    "\n",
    "# Your data payload this is for stopping the bot\n",
    "payload = {\n",
    "    \"action\": \"stop_bot\",\n",
    "    \"message_type\": \"bot\",\n",
    "    \"bot_id\": 11767904,\n",
    "    \"email_token\": \"910eaf15-60fd-4e5b-ac35-a22125a38efe\",\n",
    "    \"delay_seconds\": 0\n",
    "}\n",
    "\n",
    "# # Your data payload this is for starting the bot\n",
    "# payload = {\n",
    "#     \"action\": \"start_bot\",  \n",
    "#     \"message_type\": \"bot\",  \n",
    "#     \"bot_id\": 11767904,  \n",
    "#     \"email_token\": \"910eaf15-60fd-4e5b-ac35-a22125a38efe\",  \n",
    "#     \"delay_seconds\": 0\n",
    "# }\n",
    "\n",
    "# Send POST request\n",
    "response = requests.post(api_url, json=payload)\n",
    "\n",
    "# Check response\n",
    "if response.status_code == 200:\n",
    "    print(\"Bot stopped successfully.\")\n",
    "else:\n",
    "    print(\"Failed to stop the bot. Status code:\", response.status_code)"
   ]
  },
  {
   "cell_type": "code",
   "execution_count": 9,
   "metadata": {},
   "outputs": [
    {
     "name": "stdout",
     "output_type": "stream",
     "text": [
      "<class 'str'>\n",
      "<class 'dict'>\n",
      "{\n",
      "    \"action\": \"start_bot\",\n",
      "    \"message_type\": \"bot\",\n",
      "    \"bot_id\": 11767904,\n",
      "    \"email_token\": \"910eaf15-60fd-4e5b-ac35-a22125a38efe\",\n",
      "    \"delay_seconds\": 0\n",
      "}\n"
     ]
    }
   ],
   "source": [
    "#\n",
    "# todo convert a string dict to a dictionary\n",
    "\n",
    "str_dict = '''{\n",
    "    \"action\": \"start_bot\",  \n",
    "    \"message_type\": \"bot\",  \n",
    "    \"bot_id\": 11767904,  \n",
    "    \"email_token\": \"910eaf15-60fd-4e5b-ac35-a22125a38efe\",  \n",
    "    \"delay_seconds\": 0 \n",
    "}'''\n",
    "\n",
    "print(type(str_dict))\n",
    "\n",
    "# Convert string dict to dict\n",
    "trade_dict = eval(str_dict)\n",
    "print(type(trade_dict))\n",
    "import json\n",
    "trade_dict = json.dumps(trade_dict, indent=4)\n",
    "print(trade_dict)\n"
   ]
  },
  {
   "cell_type": "code",
   "execution_count": 113,
   "metadata": {},
   "outputs": [],
   "source": [
    "import dash\n",
    "from dash import html, dcc"
   ]
  },
  {
   "cell_type": "code",
   "execution_count": null,
   "metadata": {},
   "outputs": [],
   "source": [
    "dcc.Textarea\n",
    "html.Br"
   ]
  }
 ],
 "metadata": {
  "kernelspec": {
   "display_name": "Python 3",
   "language": "python",
   "name": "python3"
  },
  "language_info": {
   "codemirror_mode": {
    "name": "ipython",
    "version": 3
   },
   "file_extension": ".py",
   "mimetype": "text/x-python",
   "name": "python",
   "nbconvert_exporter": "python",
   "pygments_lexer": "ipython3",
   "version": "3.10.7"
  }
 },
 "nbformat": 4,
 "nbformat_minor": 2
}
