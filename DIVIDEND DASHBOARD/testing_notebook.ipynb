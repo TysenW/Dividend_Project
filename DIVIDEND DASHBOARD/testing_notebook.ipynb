{
 "cells": [
  {
   "cell_type": "markdown",
   "metadata": {},
   "source": [
    "## new testing section for the notebook\n"
   ]
  },
  {
   "cell_type": "markdown",
   "metadata": {},
   "source": [
    "## Testing to use the message from 3 commas to start and stop the trading bot"
   ]
  },
  {
   "cell_type": "code",
   "execution_count": 2,
   "metadata": {},
   "outputs": [
    {
     "name": "stdout",
     "output_type": "stream",
     "text": [
      "Bot stopped successfully.\n"
     ]
    }
   ],
   "source": [
    "import requests\n",
    "\n",
    "# Define the API endpoint\n",
    "api_url = \"https://3commas.io/trade_signal/trading_view\"\n",
    "\n",
    "# Your data payload this is for stopping the bot\n",
    "payload = {\n",
    "    \"action\": \"stop_bot\",\n",
    "    \"message_type\": \"bot\",\n",
    "    \"bot_id\": 11767904,\n",
    "    \"email_token\": \"910eaf15-60fd-4e5b-ac35-a22125a38efe\",\n",
    "    \"delay_seconds\": 0\n",
    "}\n",
    "\n",
    "# # Your data payload this is for starting the bot\n",
    "# payload = {\n",
    "#     \"action\": \"start_bot\",  \n",
    "#     \"message_type\": \"bot\",  \n",
    "#     \"bot_id\": 11767904,  \n",
    "#     \"email_token\": \"910eaf15-60fd-4e5b-ac35-a22125a38efe\",  \n",
    "#     \"delay_seconds\": 0\n",
    "# }\n",
    "\n",
    "# Send POST request\n",
    "response = requests.post(api_url, json=payload)\n",
    "\n",
    "# Check response\n",
    "if response.status_code == 200:\n",
    "    print(\"Bot stopped successfully.\")\n",
    "else:\n",
    "    print(\"Failed to stop the bot. Status code:\", response.status_code)"
   ]
  },
  {
   "cell_type": "code",
   "execution_count": 9,
   "metadata": {},
   "outputs": [
    {
     "name": "stdout",
     "output_type": "stream",
     "text": [
      "<class 'str'>\n",
      "<class 'dict'>\n",
      "{\n",
      "    \"action\": \"start_bot\",\n",
      "    \"message_type\": \"bot\",\n",
      "    \"bot_id\": 11767904,\n",
      "    \"email_token\": \"910eaf15-60fd-4e5b-ac35-a22125a38efe\",\n",
      "    \"delay_seconds\": 0\n",
      "}\n"
     ]
    }
   ],
   "source": [
    "#\n",
    "# todo convert a string dict to a dictionary\n",
    "\n",
    "str_dict = '''{\n",
    "    \"action\": \"start_bot\",  \n",
    "    \"message_type\": \"bot\",  \n",
    "    \"bot_id\": 11767904,  \n",
    "    \"email_token\": \"910eaf15-60fd-4e5b-ac35-a22125a38efe\",  \n",
    "    \"delay_seconds\": 0 \n",
    "}'''\n",
    "\n",
    "print(type(str_dict))\n",
    "\n",
    "# Convert string dict to dict\n",
    "trade_dict = eval(str_dict)\n",
    "print(type(trade_dict))\n",
    "import json\n",
    "trade_dict = json.dumps(trade_dict, indent=4)\n",
    "print(trade_dict)\n"
   ]
  },
  {
   "cell_type": "code",
   "execution_count": 161,
   "metadata": {},
   "outputs": [
    {
     "name": "stdout",
     "output_type": "stream",
     "text": [
      "Crypto Data received by Kucoin: dict_keys(['code', 'data'])\n",
      "Length of data: 1500\n"
     ]
    }
   ],
   "source": [
    "from datetime import datetime, timedelta\n",
    "import pandas as pd\n",
    "\n",
    "symbol = 'BTC-USDC'\n",
    "period = '1hour'\n",
    "\n",
    "# note VIP0 is 2000 requests per 30 seconds\n",
    "# Type of candlestick patterns: 1min, 3min, 5min, 15min, 30min, 1hour, 2hour, 4hour, 6hour, 8hour, 12hour, 1day, 1week\n",
    "# get todays date with year month and day only include hour minute and second\n",
    "end = datetime.now().strftime(\"%Y %m %d %H %M %S\")\n",
    "# start 2 years ago\n",
    "start = (datetime.now() - timedelta(days=days)).strftime(\"%Y %m %d %H %M %S\")\n",
    "# convert end to timestamp\n",
    "end = datetime.strptime(end, \"%Y %m %d %H %M %S\").timestamp()\n",
    "# convert start to timestamp\n",
    "start = datetime.strptime(start, \"%Y %m %d %H %M %S\").timestamp()\n",
    "# API endpoint\n",
    "url = f'https://api.kucoin.com/api/v1/market/candles?type={period}&symbol={symbol}&startAt={int(start)}&endAt={int(end)}'\n",
    "\n",
    "# Making a GET request\n",
    "response = requests.get(url)\n",
    "\n",
    "# Checking if the request was successful\n",
    "if response.status_code == 200:\n",
    "    # Parsing response data\n",
    "    data = response.json()\n",
    "    print(\"Crypto Data received by Kucoin:\", data.keys())\n",
    "    print(\"Length of data:\", len(data['data']))\n",
    "    # create a dataframe from the json data\n",
    "    df = pd.DataFrame(data['data'])\n",
    "    # rename the columns\n",
    "    df.columns = ['Date', 'Open', 'Close', 'High', 'Low',  'Volume', 'Turnover']\n",
    "    # convert date column to an integar\n",
    "    df['Date'] = df['Date'].astype(int)\n",
    "    # convert the timestamp to datetime\n",
    "    df['Date'] = pd.to_datetime(df['Date'], unit='s')\n",
    "    # set the index to be the date column\n",
    "    df.set_index('Date', inplace=True)\n",
    "    # set the columns to be floats\n",
    "    df = df.astype(float) \n",
    "    # sort the dataframe by date\n",
    "    df = df.sort_index(ascending=True)\n",
    "    # keep only the columns in this order Open High Low Close\n",
    "    df = df[['Open', 'High', 'Low', 'Close']]\n",
    "    if period == \"1hour\":\n",
    "        # slice the data in half to keep only the last half of the data\n",
    "        df = df.iloc[-int(len(df)/2):]"
   ]
  },
  {
   "cell_type": "code",
   "execution_count": 162,
   "metadata": {},
   "outputs": [
    {
     "name": "stdout",
     "output_type": "stream",
     "text": [
      "<class 'pandas.core.frame.DataFrame'>\n",
      "DatetimeIndex: 750 entries, 2023-11-04 13:00:00 to 2023-12-05 18:00:00\n",
      "Data columns (total 4 columns):\n",
      " #   Column  Non-Null Count  Dtype  \n",
      "---  ------  --------------  -----  \n",
      " 0   Open    750 non-null    float64\n",
      " 1   High    750 non-null    float64\n",
      " 2   Low     750 non-null    float64\n",
      " 3   Close   750 non-null    float64\n",
      "dtypes: float64(4)\n",
      "memory usage: 29.3 KB\n"
     ]
    }
   ],
   "source": [
    "df.info()"
   ]
  },
  {
   "cell_type": "code",
   "execution_count": null,
   "metadata": {},
   "outputs": [],
   "source": [
    "#\n",
    "#TODO: CREATE CLASSES FOR THE 3 METHOD SOF GATHERING DATA AND PREDICTING AND RETURNING THE FIGURE"
   ]
  }
 ],
 "metadata": {
  "kernelspec": {
   "display_name": "Python 3",
   "language": "python",
   "name": "python3"
  },
  "language_info": {
   "codemirror_mode": {
    "name": "ipython",
    "version": 3
   },
   "file_extension": ".py",
   "mimetype": "text/x-python",
   "name": "python",
   "nbconvert_exporter": "python",
   "pygments_lexer": "ipython3",
   "version": "3.10.7"
  }
 },
 "nbformat": 4,
 "nbformat_minor": 2
}
