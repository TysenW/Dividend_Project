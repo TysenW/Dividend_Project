{
 "cells": [
  {
   "cell_type": "markdown",
   "metadata": {},
   "source": [
    "## new testing section for the notebook\n"
   ]
  },
  {
   "cell_type": "markdown",
   "metadata": {},
   "source": [
    "## Testing to use the message from 3 commas to start and stop the trading bot"
   ]
  },
  {
   "cell_type": "code",
   "execution_count": 2,
   "metadata": {},
   "outputs": [
    {
     "name": "stdout",
     "output_type": "stream",
     "text": [
      "Bot stopped successfully.\n"
     ]
    }
   ],
   "source": [
    "import requests\n",
    "\n",
    "# Define the API endpoint\n",
    "api_url = \"https://3commas.io/trade_signal/trading_view\"\n",
    "\n",
    "# Your data payload this is for stopping the bot\n",
    "payload = {\n",
    "    \"action\": \"stop_bot\",\n",
    "    \"message_type\": \"bot\",\n",
    "    \"bot_id\": 11767904,\n",
    "    \"email_token\": \"910eaf15-60fd-4e5b-ac35-a22125a38efe\",\n",
    "    \"delay_seconds\": 0\n",
    "}\n",
    "\n",
    "# # Your data payload this is for starting the bot\n",
    "# payload = {\n",
    "#     \"action\": \"start_bot\",  \n",
    "#     \"message_type\": \"bot\",  \n",
    "#     \"bot_id\": 11767904,  \n",
    "#     \"email_token\": \"910eaf15-60fd-4e5b-ac35-a22125a38efe\",  \n",
    "#     \"delay_seconds\": 0\n",
    "# }\n",
    "\n",
    "# Send POST request\n",
    "response = requests.post(api_url, json=payload)\n",
    "\n",
    "# Check response\n",
    "if response.status_code == 200:\n",
    "    print(\"Bot stopped successfully.\")\n",
    "else:\n",
    "    print(\"Failed to stop the bot. Status code:\", response.status_code)"
   ]
  },
  {
   "cell_type": "code",
   "execution_count": 9,
   "metadata": {},
   "outputs": [
    {
     "name": "stdout",
     "output_type": "stream",
     "text": [
      "<class 'str'>\n",
      "<class 'dict'>\n",
      "{\n",
      "    \"action\": \"start_bot\",\n",
      "    \"message_type\": \"bot\",\n",
      "    \"bot_id\": 11767904,\n",
      "    \"email_token\": \"910eaf15-60fd-4e5b-ac35-a22125a38efe\",\n",
      "    \"delay_seconds\": 0\n",
      "}\n"
     ]
    }
   ],
   "source": [
    "#\n",
    "# todo convert a string dict to a dictionary\n",
    "\n",
    "str_dict = '''{\n",
    "    \"action\": \"start_bot\",  \n",
    "    \"message_type\": \"bot\",  \n",
    "    \"bot_id\": 11767904,  \n",
    "    \"email_token\": \"910eaf15-60fd-4e5b-ac35-a22125a38efe\",  \n",
    "    \"delay_seconds\": 0 \n",
    "}'''\n",
    "\n",
    "print(type(str_dict))\n",
    "\n",
    "# Convert string dict to dict\n",
    "trade_dict = eval(str_dict)\n",
    "print(type(trade_dict))\n",
    "import json\n",
    "trade_dict = json.dumps(trade_dict, indent=4)\n",
    "print(trade_dict)\n"
   ]
  },
  {
   "cell_type": "code",
   "execution_count": 150,
   "metadata": {},
   "outputs": [
    {
     "name": "stdout",
     "output_type": "stream",
     "text": [
      "Crypto Data received by Kucoin: dict_keys(['code', 'data'])\n"
     ]
    }
   ],
   "source": [
    "from datetime import datetime, timedelta\n",
    "import pandas as pd\n",
    "\n",
    "symbol = 'BTC-USDC'\n",
    "period = '1day'\n",
    "\n",
    "# note VIP0 is 2000 requests per 30 seconds\n",
    "# Type of candlestick patterns: 1min, 3min, 5min, 15min, 30min, 1hour, 2hour, 4hour, 6hour, 8hour, 12hour, 1day, 1week\n",
    "# get todays date with year month and day only include hour minute and second\n",
    "end = datetime.now().strftime(\"%Y %m %d %H %M %S\")\n",
    "# start 2 years ago\n",
    "start = (datetime.now() - timedelta(days=730)).strftime(\"%Y %m %d %H %M %S\")\n",
    "# convert end to timestamp\n",
    "end = datetime.strptime(end, \"%Y %m %d %H %M %S\").timestamp()\n",
    "# convert start to timestamp\n",
    "start = datetime.strptime(start, \"%Y %m %d %H %M %S\").timestamp()\n",
    "# API endpoint\n",
    "url = f'https://api.kucoin.com/api/v1/market/candles?type={period}&symbol={symbol}&startAt={int(start)}&endAt={int(end)}'\n",
    "\n",
    "# Making a GET request\n",
    "response = requests.get(url)\n",
    "\n",
    "# Checking if the request was successful\n",
    "if response.status_code == 200:\n",
    "    # Parsing response data\n",
    "    data = response.json()\n",
    "    print(\"Crypto Data received by Kucoin:\", data.keys())\n",
    "    # create a dataframe from the json data\n",
    "    df = pd.DataFrame(data['data'])\n",
    "    # rename the columns\n",
    "    df.columns = ['Date', 'Open', 'Close', 'High', 'Low',  'Volume', 'Turnover']\n",
    "    # convert date column to an integar\n",
    "    df['Date'] = df['Date'].astype(int)\n",
    "    # convert the timestamp to datetime\n",
    "    df['Date'] = pd.to_datetime(df['Date'], unit='s')\n",
    "    # set the index to be the date column\n",
    "    df.set_index('Date', inplace=True)\n",
    "    # set the columns to be floats\n",
    "    df = df.astype(float) \n",
    "    # sort the dataframe by date\n",
    "    df = df.sort_index(ascending=True)\n",
    "    # keep only the columns in this order Open High Low Close\n",
    "    df = df[['Open', 'High', 'Low', 'Close']]"
   ]
  },
  {
   "cell_type": "code",
   "execution_count": 151,
   "metadata": {},
   "outputs": [
    {
     "data": {
      "text/html": [
       "<div>\n",
       "<style scoped>\n",
       "    .dataframe tbody tr th:only-of-type {\n",
       "        vertical-align: middle;\n",
       "    }\n",
       "\n",
       "    .dataframe tbody tr th {\n",
       "        vertical-align: top;\n",
       "    }\n",
       "\n",
       "    .dataframe thead th {\n",
       "        text-align: right;\n",
       "    }\n",
       "</style>\n",
       "<table border=\"1\" class=\"dataframe\">\n",
       "  <thead>\n",
       "    <tr style=\"text-align: right;\">\n",
       "      <th></th>\n",
       "      <th>Open</th>\n",
       "      <th>High</th>\n",
       "      <th>Low</th>\n",
       "      <th>Close</th>\n",
       "    </tr>\n",
       "    <tr>\n",
       "      <th>Date</th>\n",
       "      <th></th>\n",
       "      <th></th>\n",
       "      <th></th>\n",
       "      <th></th>\n",
       "    </tr>\n",
       "  </thead>\n",
       "  <tbody>\n",
       "    <tr>\n",
       "      <th>2021-12-06</th>\n",
       "      <td>49453.1</td>\n",
       "      <td>50959.3</td>\n",
       "      <td>47000.0</td>\n",
       "      <td>50545.6</td>\n",
       "    </tr>\n",
       "    <tr>\n",
       "      <th>2021-12-07</th>\n",
       "      <td>50517.0</td>\n",
       "      <td>51969.5</td>\n",
       "      <td>50000.1</td>\n",
       "      <td>50632.8</td>\n",
       "    </tr>\n",
       "    <tr>\n",
       "      <th>2021-12-08</th>\n",
       "      <td>50650.0</td>\n",
       "      <td>51188.7</td>\n",
       "      <td>48088.0</td>\n",
       "      <td>50527.0</td>\n",
       "    </tr>\n",
       "    <tr>\n",
       "      <th>2021-12-09</th>\n",
       "      <td>50548.4</td>\n",
       "      <td>50828.0</td>\n",
       "      <td>46300.1</td>\n",
       "      <td>47610.8</td>\n",
       "    </tr>\n",
       "    <tr>\n",
       "      <th>2021-12-10</th>\n",
       "      <td>47644.1</td>\n",
       "      <td>50126.5</td>\n",
       "      <td>46871.3</td>\n",
       "      <td>47069.2</td>\n",
       "    </tr>\n",
       "    <tr>\n",
       "      <th>...</th>\n",
       "      <td>...</td>\n",
       "      <td>...</td>\n",
       "      <td>...</td>\n",
       "      <td>...</td>\n",
       "    </tr>\n",
       "    <tr>\n",
       "      <th>2023-12-01</th>\n",
       "      <td>37726.0</td>\n",
       "      <td>39036.7</td>\n",
       "      <td>37618.4</td>\n",
       "      <td>38671.0</td>\n",
       "    </tr>\n",
       "    <tr>\n",
       "      <th>2023-12-02</th>\n",
       "      <td>38712.2</td>\n",
       "      <td>39751.7</td>\n",
       "      <td>38660.1</td>\n",
       "      <td>39457.3</td>\n",
       "    </tr>\n",
       "    <tr>\n",
       "      <th>2023-12-03</th>\n",
       "      <td>39467.2</td>\n",
       "      <td>40248.2</td>\n",
       "      <td>39302.7</td>\n",
       "      <td>39986.2</td>\n",
       "    </tr>\n",
       "    <tr>\n",
       "      <th>2023-12-04</th>\n",
       "      <td>40015.2</td>\n",
       "      <td>42404.7</td>\n",
       "      <td>39992.0</td>\n",
       "      <td>41992.3</td>\n",
       "    </tr>\n",
       "    <tr>\n",
       "      <th>2023-12-05</th>\n",
       "      <td>41968.9</td>\n",
       "      <td>42419.8</td>\n",
       "      <td>41403.5</td>\n",
       "      <td>42379.9</td>\n",
       "    </tr>\n",
       "  </tbody>\n",
       "</table>\n",
       "<p>730 rows × 4 columns</p>\n",
       "</div>"
      ],
      "text/plain": [
       "               Open     High      Low    Close\n",
       "Date                                          \n",
       "2021-12-06  49453.1  50959.3  47000.0  50545.6\n",
       "2021-12-07  50517.0  51969.5  50000.1  50632.8\n",
       "2021-12-08  50650.0  51188.7  48088.0  50527.0\n",
       "2021-12-09  50548.4  50828.0  46300.1  47610.8\n",
       "2021-12-10  47644.1  50126.5  46871.3  47069.2\n",
       "...             ...      ...      ...      ...\n",
       "2023-12-01  37726.0  39036.7  37618.4  38671.0\n",
       "2023-12-02  38712.2  39751.7  38660.1  39457.3\n",
       "2023-12-03  39467.2  40248.2  39302.7  39986.2\n",
       "2023-12-04  40015.2  42404.7  39992.0  41992.3\n",
       "2023-12-05  41968.9  42419.8  41403.5  42379.9\n",
       "\n",
       "[730 rows x 4 columns]"
      ]
     },
     "execution_count": 151,
     "metadata": {},
     "output_type": "execute_result"
    }
   ],
   "source": [
    "df"
   ]
  },
  {
   "cell_type": "code",
   "execution_count": null,
   "metadata": {},
   "outputs": [],
   "source": [
    "#\n",
    "#TODO: CREATE CLASSES FOR THE 3 METHOD SOF GATHERING DATA AND PREDICTING AND RETURNING THE FIGURE"
   ]
  }
 ],
 "metadata": {
  "kernelspec": {
   "display_name": "Python 3",
   "language": "python",
   "name": "python3"
  },
  "language_info": {
   "codemirror_mode": {
    "name": "ipython",
    "version": 3
   },
   "file_extension": ".py",
   "mimetype": "text/x-python",
   "name": "python",
   "nbconvert_exporter": "python",
   "pygments_lexer": "ipython3",
   "version": "3.10.7"
  }
 },
 "nbformat": 4,
 "nbformat_minor": 2
}
