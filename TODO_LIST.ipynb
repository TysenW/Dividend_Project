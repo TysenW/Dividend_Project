{
 "cells": [
  {
   "cell_type": "markdown",
   "metadata": {},
   "source": [
    "## To Do List:"
   ]
  },
  {
   "cell_type": "code",
   "execution_count": 43,
   "metadata": {},
   "outputs": [],
   "source": [
    "## \n",
    "# todo : use the read_from excel or csv with the parameters sheet_name and index_col \n",
    "\n",
    "# todo : use bar plot for showing the years dividend profit and use makesubplots for showing the current year dividend profit as a line plot refer to the   plotly course 'Introduction to Data Visualization with Plotly in Python' module 3\n",
    "\n",
    "# todo : use the dividend analysis notebook to chart the dividend holders and other dividend information group these charts together using the make subplots. have a drop down menu fo selecting the stocks that are current purchased\n",
    "\n"
   ]
  },
  {
   "cell_type": "code",
   "execution_count": 39,
   "metadata": {},
   "outputs": [
    {
     "name": "stdout",
     "output_type": "stream",
     "text": [
      "[*********************100%***********************]  2 of 2 completed\n"
     ]
    }
   ],
   "source": [
    "# import y finance \n",
    "import yfinance as yf\n",
    "import datetime as datetime\n",
    "\n",
    "today = datetime.date.today()\n",
    "today = today.strftime(\"%Y-%m-%d\")\n",
    "tickerSymbols = ['CAD=X', 'BTC-USD']\n",
    "# get the current close price of the stock\n",
    "ticker_prices = yf.download(tickerSymbols, period='1d', interval='1m', rounding=True, prepost=True)['Close']\n",
    "current_price = ticker_prices[:].iloc[[-1]]\n",
    "# transpose the dataframe\n",
    "current_price = current_price.transpose()\n",
    "current_price\n",
    "\n"
   ]
  },
  {
   "cell_type": "code",
   "execution_count": 54,
   "metadata": {},
   "outputs": [
    {
     "data": {
      "text/plain": [
       "{'results': [{'cash_amount': 0.3,\n",
       "   'currency': 'USD',\n",
       "   'declaration_date': '2023-10-10',\n",
       "   'dividend_type': 'CD',\n",
       "   'ex_dividend_date': '2023-10-31',\n",
       "   'frequency': 4,\n",
       "   'pay_date': '2023-11-15',\n",
       "   'record_date': '2023-11-01',\n",
       "   'ticker': 'ALLY'}],\n",
       " 'status': 'OK',\n",
       " 'request_id': '652a804364110042122d305805ff2fbf'}"
      ]
     },
     "execution_count": 54,
     "metadata": {},
     "output_type": "execute_result"
    }
   ],
   "source": [
    "import requests\n",
    "import datetime as datetime\n",
    "\n",
    "today = datetime.date.today()\n",
    "today = today.strftime(\"%Y-%m-%d\")\n",
    "\n",
    "ticker = 'ALLY'\n",
    "url = f'https://api.polygon.io/v3/reference/dividends?ticker={ticker}&ex_dividend_date.gte={today}&apiKey=I3RTEm6vso7yOXBhGcYSidwUhRHaSgWy'\n",
    "\n",
    "response = requests.get(url)\n",
    "\n",
    "response.json()"
   ]
  },
  {
   "cell_type": "code",
   "execution_count": 56,
   "metadata": {},
   "outputs": [
    {
     "data": {
      "text/plain": [
       "{'cash_amount': 0.3,\n",
       " 'currency': 'USD',\n",
       " 'declaration_date': '2023-10-10',\n",
       " 'dividend_type': 'CD',\n",
       " 'ex_dividend_date': '2023-10-31',\n",
       " 'frequency': 4,\n",
       " 'pay_date': '2023-11-15',\n",
       " 'record_date': '2023-11-01',\n",
       " 'ticker': 'ALLY'}"
      ]
     },
     "execution_count": 56,
     "metadata": {},
     "output_type": "execute_result"
    }
   ],
   "source": [
    "response.json()['results'][0]"
   ]
  },
  {
   "cell_type": "code",
   "execution_count": null,
   "metadata": {},
   "outputs": [],
   "source": []
  }
 ],
 "metadata": {
  "kernelspec": {
   "display_name": "Python 3",
   "language": "python",
   "name": "python3"
  },
  "language_info": {
   "codemirror_mode": {
    "name": "ipython",
    "version": 3
   },
   "file_extension": ".py",
   "mimetype": "text/x-python",
   "name": "python",
   "nbconvert_exporter": "python",
   "pygments_lexer": "ipython3",
   "version": "3.10.7"
  }
 },
 "nbformat": 4,
 "nbformat_minor": 2
}
