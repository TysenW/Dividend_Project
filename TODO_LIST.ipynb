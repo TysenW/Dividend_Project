{
 "cells": [
  {
   "cell_type": "markdown",
   "metadata": {},
   "source": [
    "## To Do List:"
   ]
  },
  {
   "cell_type": "code",
   "execution_count": 43,
   "metadata": {},
   "outputs": [],
   "source": [
    "## \n",
    "# todo : Create a new directory for the housing project. This will be a dash app. it will have multiple pages first page page will be an introductory and tell about other pages. \n",
    "\n",
    "# todo : create a page that will have a calculator for how much house you can afford. Refer to \"Simulating a Mortgage Loan\" in the \"Introduction to Financial Concepts in Python\" course.\n",
    "\n",
    "# todo : add a ammortization page to the dash app. this wiill have a download button to download the ammortization schedule and also my pdf teaching how to payoff your house faster and also a vehicle. \n",
    "\n",
    "# average house growth rate in Canada - 1.9% \n",
    "# ref:: https://www.ceicdata.com/en/indicator/canada/house-prices-growth#:~:text=YoY%20growth%20data%20is%20updated,from%20monthly%20House%20Price%20Index\n",
    "\n"
   ]
  }
 ],
 "metadata": {
  "kernelspec": {
   "display_name": "Python 3",
   "language": "python",
   "name": "python3"
  },
  "language_info": {
   "codemirror_mode": {
    "name": "ipython",
    "version": 3
   },
   "file_extension": ".py",
   "mimetype": "text/x-python",
   "name": "python",
   "nbconvert_exporter": "python",
   "pygments_lexer": "ipython3",
   "version": "3.10.7"
  }
 },
 "nbformat": 4,
 "nbformat_minor": 2
}
